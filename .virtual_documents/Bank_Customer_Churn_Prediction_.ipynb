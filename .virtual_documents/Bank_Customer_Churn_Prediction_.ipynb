import numpy as np
import pandas as pd
import matplotlib.pyplot as plt
from sklearn.linear_model import LogisticRegression
from sklearn.model_selection import train_test_split
from sklearn.preprocessing import StandardScaler
from sklearn.metrics import accuracy_score


df = pd.read_csv('Churn_Modelling.csv')
df.head()


new_df = df.drop(columns = ['RowNumber','Surname','CustomerId'])


gender_df = (pd.get_dummies(df['Gender'])).astype('int')


new_df = pd.concat([new_df,gender_df],axis= 1)
new_df.drop(columns='Gender',inplace=True)


geography_df = (pd.get_dummies(df['Geography'])).astype('int')


new_df = pd.concat([new_df,geography_df],axis= 1)
new_df.drop(columns='Geography',inplace=True)


X = np.array(new_df.drop(columns='Exited'))
Y = np.array(new_df['Exited'])


X_scaled = StandardScaler().fit_transform(X)


x_train, x_test, y_train, y_test = train_test_split(X_scaled, Y, test_size=0.25)


np.isnan(x_train).any()


model = LogisticRegression()
model.fit(x_train,y_train)
pred = model.predict(x_test)


accuracy_score(y_test,pred)


a = np.array([0,1,1,0,0,0,1,0,0,0,1,1,0])
a_scaled = StandardScaler().fit_transform(a.reshape(1, -1))
# Reshape 'a' to a 2D array with one row and 13 columns
print(a_scaled)
a = a.reshape(1, -1)
# Now the model can predict
p = model.predict(a_scaled)
p



